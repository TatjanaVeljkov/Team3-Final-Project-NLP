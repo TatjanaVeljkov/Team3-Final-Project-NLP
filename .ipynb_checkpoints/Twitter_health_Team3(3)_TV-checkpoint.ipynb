{
 "cells": [
  {
   "cell_type": "code",
   "execution_count": 3,
   "id": "76ac4a6d-5d1c-48cf-894d-a6e14632e7e1",
   "metadata": {},
   "outputs": [],
   "source": [
    "import pandas as pd\n",
    "import numpy as np"
   ]
  },
  {
   "cell_type": "markdown",
   "id": "1c30817a-54bc-4234-b162-d8b8c7717ac5",
   "metadata": {},
   "source": [
    "### Note TV: Files are read, columns are renamed, additional column with source name is added (for all 16 files)"
   ]
  },
  {
   "cell_type": "code",
   "execution_count": 4,
   "id": "503143c9-4d47-4ee9-b82c-fc328e055e99",
   "metadata": {},
   "outputs": [
    {
     "ename": "FileNotFoundError",
     "evalue": "[Errno 2] No such file or directory: 'bbchealth.txt'",
     "output_type": "error",
     "traceback": [
      "\u001b[1;31m---------------------------------------------------------------------------\u001b[0m",
      "\u001b[1;31mFileNotFoundError\u001b[0m                         Traceback (most recent call last)",
      "\u001b[1;32m<ipython-input-4-cb41c8ba92d1>\u001b[0m in \u001b[0;36m<module>\u001b[1;34m\u001b[0m\n\u001b[1;32m----> 1\u001b[1;33m \u001b[0mdata1_bbc\u001b[0m \u001b[1;33m=\u001b[0m \u001b[0mpd\u001b[0m\u001b[1;33m.\u001b[0m\u001b[0mread_csv\u001b[0m\u001b[1;33m(\u001b[0m\u001b[1;34m'bbchealth.txt'\u001b[0m\u001b[1;33m,\u001b[0m \u001b[0mdelimiter\u001b[0m\u001b[1;33m=\u001b[0m\u001b[1;34m'|'\u001b[0m\u001b[1;33m,\u001b[0m \u001b[0mheader\u001b[0m\u001b[1;33m=\u001b[0m\u001b[1;32mNone\u001b[0m\u001b[1;33m)\u001b[0m\u001b[1;33m\u001b[0m\u001b[1;33m\u001b[0m\u001b[0m\n\u001b[0m\u001b[0;32m      2\u001b[0m \u001b[0mdata1_bbc\u001b[0m\u001b[1;33m.\u001b[0m\u001b[0mrename\u001b[0m\u001b[1;33m(\u001b[0m\u001b[0mcolumns\u001b[0m \u001b[1;33m=\u001b[0m \u001b[1;33m{\u001b[0m\u001b[1;36m0\u001b[0m\u001b[1;33m:\u001b[0m\u001b[1;34m'Number'\u001b[0m\u001b[1;33m,\u001b[0m \u001b[1;36m1\u001b[0m\u001b[1;33m:\u001b[0m\u001b[1;34m'Date_Time'\u001b[0m\u001b[1;33m,\u001b[0m\u001b[1;36m2\u001b[0m\u001b[1;33m:\u001b[0m\u001b[1;34m'info'\u001b[0m\u001b[1;33m}\u001b[0m\u001b[1;33m,\u001b[0m \u001b[0minplace\u001b[0m \u001b[1;33m=\u001b[0m \u001b[1;32mTrue\u001b[0m\u001b[1;33m)\u001b[0m\u001b[1;33m\u001b[0m\u001b[1;33m\u001b[0m\u001b[0m\n\u001b[0;32m      3\u001b[0m \u001b[0mdata1_bbc\u001b[0m\u001b[1;33m[\u001b[0m\u001b[1;34m'source'\u001b[0m\u001b[1;33m]\u001b[0m \u001b[1;33m=\u001b[0m \u001b[0mpd\u001b[0m\u001b[1;33m.\u001b[0m\u001b[0mSeries\u001b[0m\u001b[1;33m(\u001b[0m\u001b[1;33m[\u001b[0m\u001b[1;34m\"bbchealth\"\u001b[0m \u001b[1;32mfor\u001b[0m \u001b[0mx\u001b[0m \u001b[1;32min\u001b[0m \u001b[0mrange\u001b[0m\u001b[1;33m(\u001b[0m\u001b[0mlen\u001b[0m\u001b[1;33m(\u001b[0m\u001b[0mdata1_bbc\u001b[0m\u001b[1;33m.\u001b[0m\u001b[0mindex\u001b[0m\u001b[1;33m)\u001b[0m\u001b[1;33m)\u001b[0m\u001b[1;33m]\u001b[0m\u001b[1;33m)\u001b[0m\u001b[1;33m\u001b[0m\u001b[1;33m\u001b[0m\u001b[0m\n\u001b[0;32m      4\u001b[0m \u001b[0mdata1_bbc\u001b[0m\u001b[1;33m.\u001b[0m\u001b[0mhead\u001b[0m\u001b[1;33m(\u001b[0m\u001b[1;36m5\u001b[0m\u001b[1;33m)\u001b[0m\u001b[1;33m\u001b[0m\u001b[1;33m\u001b[0m\u001b[0m\n\u001b[0;32m      5\u001b[0m \u001b[0mdata1_bbc\u001b[0m\u001b[1;33m\u001b[0m\u001b[1;33m\u001b[0m\u001b[0m\n",
      "\u001b[1;32m~\\anaconda3\\lib\\site-packages\\pandas\\io\\parsers.py\u001b[0m in \u001b[0;36mread_csv\u001b[1;34m(filepath_or_buffer, sep, delimiter, header, names, index_col, usecols, squeeze, prefix, mangle_dupe_cols, dtype, engine, converters, true_values, false_values, skipinitialspace, skiprows, skipfooter, nrows, na_values, keep_default_na, na_filter, verbose, skip_blank_lines, parse_dates, infer_datetime_format, keep_date_col, date_parser, dayfirst, cache_dates, iterator, chunksize, compression, thousands, decimal, lineterminator, quotechar, quoting, doublequote, escapechar, comment, encoding, dialect, error_bad_lines, warn_bad_lines, delim_whitespace, low_memory, memory_map, float_precision, storage_options)\u001b[0m\n\u001b[0;32m    608\u001b[0m     \u001b[0mkwds\u001b[0m\u001b[1;33m.\u001b[0m\u001b[0mupdate\u001b[0m\u001b[1;33m(\u001b[0m\u001b[0mkwds_defaults\u001b[0m\u001b[1;33m)\u001b[0m\u001b[1;33m\u001b[0m\u001b[1;33m\u001b[0m\u001b[0m\n\u001b[0;32m    609\u001b[0m \u001b[1;33m\u001b[0m\u001b[0m\n\u001b[1;32m--> 610\u001b[1;33m     \u001b[1;32mreturn\u001b[0m \u001b[0m_read\u001b[0m\u001b[1;33m(\u001b[0m\u001b[0mfilepath_or_buffer\u001b[0m\u001b[1;33m,\u001b[0m \u001b[0mkwds\u001b[0m\u001b[1;33m)\u001b[0m\u001b[1;33m\u001b[0m\u001b[1;33m\u001b[0m\u001b[0m\n\u001b[0m\u001b[0;32m    611\u001b[0m \u001b[1;33m\u001b[0m\u001b[0m\n\u001b[0;32m    612\u001b[0m \u001b[1;33m\u001b[0m\u001b[0m\n",
      "\u001b[1;32m~\\anaconda3\\lib\\site-packages\\pandas\\io\\parsers.py\u001b[0m in \u001b[0;36m_read\u001b[1;34m(filepath_or_buffer, kwds)\u001b[0m\n\u001b[0;32m    460\u001b[0m \u001b[1;33m\u001b[0m\u001b[0m\n\u001b[0;32m    461\u001b[0m     \u001b[1;31m# Create the parser.\u001b[0m\u001b[1;33m\u001b[0m\u001b[1;33m\u001b[0m\u001b[1;33m\u001b[0m\u001b[0m\n\u001b[1;32m--> 462\u001b[1;33m     \u001b[0mparser\u001b[0m \u001b[1;33m=\u001b[0m \u001b[0mTextFileReader\u001b[0m\u001b[1;33m(\u001b[0m\u001b[0mfilepath_or_buffer\u001b[0m\u001b[1;33m,\u001b[0m \u001b[1;33m**\u001b[0m\u001b[0mkwds\u001b[0m\u001b[1;33m)\u001b[0m\u001b[1;33m\u001b[0m\u001b[1;33m\u001b[0m\u001b[0m\n\u001b[0m\u001b[0;32m    463\u001b[0m \u001b[1;33m\u001b[0m\u001b[0m\n\u001b[0;32m    464\u001b[0m     \u001b[1;32mif\u001b[0m \u001b[0mchunksize\u001b[0m \u001b[1;32mor\u001b[0m \u001b[0miterator\u001b[0m\u001b[1;33m:\u001b[0m\u001b[1;33m\u001b[0m\u001b[1;33m\u001b[0m\u001b[0m\n",
      "\u001b[1;32m~\\anaconda3\\lib\\site-packages\\pandas\\io\\parsers.py\u001b[0m in \u001b[0;36m__init__\u001b[1;34m(self, f, engine, **kwds)\u001b[0m\n\u001b[0;32m    817\u001b[0m             \u001b[0mself\u001b[0m\u001b[1;33m.\u001b[0m\u001b[0moptions\u001b[0m\u001b[1;33m[\u001b[0m\u001b[1;34m\"has_index_names\"\u001b[0m\u001b[1;33m]\u001b[0m \u001b[1;33m=\u001b[0m \u001b[0mkwds\u001b[0m\u001b[1;33m[\u001b[0m\u001b[1;34m\"has_index_names\"\u001b[0m\u001b[1;33m]\u001b[0m\u001b[1;33m\u001b[0m\u001b[1;33m\u001b[0m\u001b[0m\n\u001b[0;32m    818\u001b[0m \u001b[1;33m\u001b[0m\u001b[0m\n\u001b[1;32m--> 819\u001b[1;33m         \u001b[0mself\u001b[0m\u001b[1;33m.\u001b[0m\u001b[0m_engine\u001b[0m \u001b[1;33m=\u001b[0m \u001b[0mself\u001b[0m\u001b[1;33m.\u001b[0m\u001b[0m_make_engine\u001b[0m\u001b[1;33m(\u001b[0m\u001b[0mself\u001b[0m\u001b[1;33m.\u001b[0m\u001b[0mengine\u001b[0m\u001b[1;33m)\u001b[0m\u001b[1;33m\u001b[0m\u001b[1;33m\u001b[0m\u001b[0m\n\u001b[0m\u001b[0;32m    820\u001b[0m \u001b[1;33m\u001b[0m\u001b[0m\n\u001b[0;32m    821\u001b[0m     \u001b[1;32mdef\u001b[0m \u001b[0mclose\u001b[0m\u001b[1;33m(\u001b[0m\u001b[0mself\u001b[0m\u001b[1;33m)\u001b[0m\u001b[1;33m:\u001b[0m\u001b[1;33m\u001b[0m\u001b[1;33m\u001b[0m\u001b[0m\n",
      "\u001b[1;32m~\\anaconda3\\lib\\site-packages\\pandas\\io\\parsers.py\u001b[0m in \u001b[0;36m_make_engine\u001b[1;34m(self, engine)\u001b[0m\n\u001b[0;32m   1048\u001b[0m             )\n\u001b[0;32m   1049\u001b[0m         \u001b[1;31m# error: Too many arguments for \"ParserBase\"\u001b[0m\u001b[1;33m\u001b[0m\u001b[1;33m\u001b[0m\u001b[1;33m\u001b[0m\u001b[0m\n\u001b[1;32m-> 1050\u001b[1;33m         \u001b[1;32mreturn\u001b[0m \u001b[0mmapping\u001b[0m\u001b[1;33m[\u001b[0m\u001b[0mengine\u001b[0m\u001b[1;33m]\u001b[0m\u001b[1;33m(\u001b[0m\u001b[0mself\u001b[0m\u001b[1;33m.\u001b[0m\u001b[0mf\u001b[0m\u001b[1;33m,\u001b[0m \u001b[1;33m**\u001b[0m\u001b[0mself\u001b[0m\u001b[1;33m.\u001b[0m\u001b[0moptions\u001b[0m\u001b[1;33m)\u001b[0m  \u001b[1;31m# type: ignore[call-arg]\u001b[0m\u001b[1;33m\u001b[0m\u001b[1;33m\u001b[0m\u001b[0m\n\u001b[0m\u001b[0;32m   1051\u001b[0m \u001b[1;33m\u001b[0m\u001b[0m\n\u001b[0;32m   1052\u001b[0m     \u001b[1;32mdef\u001b[0m \u001b[0m_failover_to_python\u001b[0m\u001b[1;33m(\u001b[0m\u001b[0mself\u001b[0m\u001b[1;33m)\u001b[0m\u001b[1;33m:\u001b[0m\u001b[1;33m\u001b[0m\u001b[1;33m\u001b[0m\u001b[0m\n",
      "\u001b[1;32m~\\anaconda3\\lib\\site-packages\\pandas\\io\\parsers.py\u001b[0m in \u001b[0;36m__init__\u001b[1;34m(self, src, **kwds)\u001b[0m\n\u001b[0;32m   1865\u001b[0m \u001b[1;33m\u001b[0m\u001b[0m\n\u001b[0;32m   1866\u001b[0m         \u001b[1;31m# open handles\u001b[0m\u001b[1;33m\u001b[0m\u001b[1;33m\u001b[0m\u001b[1;33m\u001b[0m\u001b[0m\n\u001b[1;32m-> 1867\u001b[1;33m         \u001b[0mself\u001b[0m\u001b[1;33m.\u001b[0m\u001b[0m_open_handles\u001b[0m\u001b[1;33m(\u001b[0m\u001b[0msrc\u001b[0m\u001b[1;33m,\u001b[0m \u001b[0mkwds\u001b[0m\u001b[1;33m)\u001b[0m\u001b[1;33m\u001b[0m\u001b[1;33m\u001b[0m\u001b[0m\n\u001b[0m\u001b[0;32m   1868\u001b[0m         \u001b[1;32massert\u001b[0m \u001b[0mself\u001b[0m\u001b[1;33m.\u001b[0m\u001b[0mhandles\u001b[0m \u001b[1;32mis\u001b[0m \u001b[1;32mnot\u001b[0m \u001b[1;32mNone\u001b[0m\u001b[1;33m\u001b[0m\u001b[1;33m\u001b[0m\u001b[0m\n\u001b[0;32m   1869\u001b[0m         \u001b[1;32mfor\u001b[0m \u001b[0mkey\u001b[0m \u001b[1;32min\u001b[0m \u001b[1;33m(\u001b[0m\u001b[1;34m\"storage_options\"\u001b[0m\u001b[1;33m,\u001b[0m \u001b[1;34m\"encoding\"\u001b[0m\u001b[1;33m,\u001b[0m \u001b[1;34m\"memory_map\"\u001b[0m\u001b[1;33m,\u001b[0m \u001b[1;34m\"compression\"\u001b[0m\u001b[1;33m)\u001b[0m\u001b[1;33m:\u001b[0m\u001b[1;33m\u001b[0m\u001b[1;33m\u001b[0m\u001b[0m\n",
      "\u001b[1;32m~\\anaconda3\\lib\\site-packages\\pandas\\io\\parsers.py\u001b[0m in \u001b[0;36m_open_handles\u001b[1;34m(self, src, kwds)\u001b[0m\n\u001b[0;32m   1360\u001b[0m         \u001b[0mLet\u001b[0m \u001b[0mthe\u001b[0m \u001b[0mreaders\u001b[0m \u001b[0mopen\u001b[0m \u001b[0mIOHanldes\u001b[0m \u001b[0mafter\u001b[0m \u001b[0mthey\u001b[0m \u001b[0mare\u001b[0m \u001b[0mdone\u001b[0m \u001b[1;32mwith\u001b[0m \u001b[0mtheir\u001b[0m \u001b[0mpotential\u001b[0m \u001b[0mraises\u001b[0m\u001b[1;33m.\u001b[0m\u001b[1;33m\u001b[0m\u001b[1;33m\u001b[0m\u001b[0m\n\u001b[0;32m   1361\u001b[0m         \"\"\"\n\u001b[1;32m-> 1362\u001b[1;33m         self.handles = get_handle(\n\u001b[0m\u001b[0;32m   1363\u001b[0m             \u001b[0msrc\u001b[0m\u001b[1;33m,\u001b[0m\u001b[1;33m\u001b[0m\u001b[1;33m\u001b[0m\u001b[0m\n\u001b[0;32m   1364\u001b[0m             \u001b[1;34m\"r\"\u001b[0m\u001b[1;33m,\u001b[0m\u001b[1;33m\u001b[0m\u001b[1;33m\u001b[0m\u001b[0m\n",
      "\u001b[1;32m~\\anaconda3\\lib\\site-packages\\pandas\\io\\common.py\u001b[0m in \u001b[0;36mget_handle\u001b[1;34m(path_or_buf, mode, encoding, compression, memory_map, is_text, errors, storage_options)\u001b[0m\n\u001b[0;32m    640\u001b[0m                 \u001b[0merrors\u001b[0m \u001b[1;33m=\u001b[0m \u001b[1;34m\"replace\"\u001b[0m\u001b[1;33m\u001b[0m\u001b[1;33m\u001b[0m\u001b[0m\n\u001b[0;32m    641\u001b[0m             \u001b[1;31m# Encoding\u001b[0m\u001b[1;33m\u001b[0m\u001b[1;33m\u001b[0m\u001b[1;33m\u001b[0m\u001b[0m\n\u001b[1;32m--> 642\u001b[1;33m             handle = open(\n\u001b[0m\u001b[0;32m    643\u001b[0m                 \u001b[0mhandle\u001b[0m\u001b[1;33m,\u001b[0m\u001b[1;33m\u001b[0m\u001b[1;33m\u001b[0m\u001b[0m\n\u001b[0;32m    644\u001b[0m                 \u001b[0mioargs\u001b[0m\u001b[1;33m.\u001b[0m\u001b[0mmode\u001b[0m\u001b[1;33m,\u001b[0m\u001b[1;33m\u001b[0m\u001b[1;33m\u001b[0m\u001b[0m\n",
      "\u001b[1;31mFileNotFoundError\u001b[0m: [Errno 2] No such file or directory: 'bbchealth.txt'"
     ]
    }
   ],
   "source": [
    "data1_bbc = pd.read_csv('bbchealth.txt', delimiter='|', header=None)\n",
    "data1_bbc.rename(columns = {0:'Number', 1:'Date_Time',2:'info'}, inplace = True)\n",
    "data1_bbc['source'] = pd.Series([\"bbchealth\" for x in range(len(data1_bbc.index))])\n",
    "data1_bbc.head(5)\n",
    "data1_bbc"
   ]
  },
  {
   "cell_type": "code",
   "execution_count": null,
   "id": "e670756a-d9ae-4609-ad56-fc0094770c64",
   "metadata": {},
   "outputs": [],
   "source": [
    "data2_cbc = pd.read_csv('cbchealth.txt', delimiter='|', error_bad_lines=False, warn_bad_lines=False, header=None)\n",
    "data2_cbc.rename(columns = {0:'Number', 1:'Date_Time',2:'info'}, inplace = True)\n",
    "data2_cbc['source'] = pd.Series([\"cbchealth\" for x in range(len(data2_cbc.index))])\n",
    "data2_cbc.head(5)\n",
    "data2_cbc"
   ]
  },
  {
   "cell_type": "code",
   "execution_count": null,
   "id": "5a80b076-184e-49b9-8ca4-3c3a8bc699b8",
   "metadata": {},
   "outputs": [],
   "source": [
    "data3_cnn = pd.read_csv('cnnhealth.txt', delimiter='|', error_bad_lines=False, warn_bad_lines=False, header=None)\n",
    "data3_cnn.rename(columns = {0:'Number', 1:'Date_Time',2:'info'}, inplace = True)\n",
    "data3_cnn['source'] = pd.Series([\"cnnhealth\" for x in range(len(data3_cnn.index))])\n",
    "data3_cnn.head(5)"
   ]
  },
  {
   "cell_type": "code",
   "execution_count": null,
   "id": "eed8f45b-20f3-46c8-a6bd-7f3eea6de5a1",
   "metadata": {},
   "outputs": [],
   "source": [
    "data4_everyday = pd.read_csv('everydayhealth.txt', delimiter='|', error_bad_lines=False, warn_bad_lines=False, header=None)\n",
    "data4_everyday.rename(columns = {0:'Number', 1:'Date_Time',2:'info'}, inplace = True)\n",
    "data4_everyday['source'] = pd.Series([\"everydayhealth\" for x in range(len(data4_everyday.index))])\n",
    "data4_everyday.head(5)"
   ]
  },
  {
   "cell_type": "code",
   "execution_count": null,
   "id": "5f76c43e-c4ac-4f06-8f54-06af678295a5",
   "metadata": {},
   "outputs": [],
   "source": [
    "data5_foxnews = pd.read_csv('foxnewshealth.txt', delimiter='|', error_bad_lines=False, warn_bad_lines=False, header=None)\n",
    "data5_foxnews.rename(columns = {0:'Number', 1:'Date_Time',2:'info'}, inplace = True)\n",
    "data5_foxnews['source'] = pd.Series([\"foxnewshealth\" for x in range(len(data5_foxnews.index))])\n",
    "data5_foxnews.head(5)"
   ]
  },
  {
   "cell_type": "code",
   "execution_count": null,
   "id": "869f1926-3e3a-40df-98ef-4c56b0a14386",
   "metadata": {},
   "outputs": [],
   "source": [
    "data6_gdnhealthcare = pd.read_csv('gdnhealthcare.txt', delimiter='|', error_bad_lines=False, warn_bad_lines=False, header=None)\n",
    "data6_gdnhealthcare.rename(columns = {0:'Number', 1:'Date_Time',2:'info'}, inplace = True)\n",
    "data6_gdnhealthcare['source'] = pd.Series([\"gdnhealthcare\" for x in range(len(data6_gdnhealthcare.index))])\n",
    "data6_gdnhealthcare.head(5)"
   ]
  },
  {
   "cell_type": "code",
   "execution_count": null,
   "id": "22ca7012-fa24-4280-82b9-49a99bcc80bb",
   "metadata": {},
   "outputs": [],
   "source": [
    "data7_goodhealth = pd.read_csv('goodhealth.txt', delimiter='|', error_bad_lines=False, warn_bad_lines=False, header=None)\n",
    "data7_goodhealth.rename(columns = {0:'Number', 1:'Date_Time',2:'info'}, inplace = True)\n",
    "data7_goodhealth['source'] = pd.Series([\"goodhealth\" for x in range(len(data7_goodhealth.index))])\n",
    "data7_goodhealth.head(5)"
   ]
  },
  {
   "cell_type": "code",
   "execution_count": null,
   "id": "f9468ea9-2f7d-4764-91bc-5ed6aac1299c",
   "metadata": {},
   "outputs": [],
   "source": [
    "data8_KaiserHealthNews = pd.read_csv('KaiserHealthNews.txt', delimiter='|', error_bad_lines=False, warn_bad_lines=False, header=None)\n",
    "data8_KaiserHealthNews.rename(columns = {0:'Number', 1:'Date_Time',2:'info'}, inplace = True)\n",
    "data8_KaiserHealthNews['source'] = pd.Series([\"KaiserHealthNews\" for x in range(len(data8_KaiserHealthNews.index))])\n",
    "data8_KaiserHealthNews.head(5)"
   ]
  },
  {
   "cell_type": "code",
   "execution_count": null,
   "id": "191f2b0f-d7e8-4257-aee8-43a1659f8b4d",
   "metadata": {},
   "outputs": [],
   "source": [
    "data9_latimeshealth = pd.read_csv('latimeshealth.txt', delimiter='|', error_bad_lines=False, warn_bad_lines=False, header=None)\n",
    "data9_latimeshealth.rename(columns = {0:'Number', 1:'Date_Time',2:'info'}, inplace = True)\n",
    "data9_latimeshealth['source'] = pd.Series([\"latimeshealth\" for x in range(len(data9_latimeshealth.index))])\n",
    "data9_latimeshealth.head(5)"
   ]
  },
  {
   "cell_type": "code",
   "execution_count": null,
   "id": "14f66d37-712a-4417-b073-4a30f09e5099",
   "metadata": {},
   "outputs": [],
   "source": [
    "data10_msnhealthnews = pd.read_csv('msnhealthnews.txt', delimiter='|', error_bad_lines=False, warn_bad_lines=False, header=None)\n",
    "data10_msnhealthnews.rename(columns = {0:'Number', 1:'Date_Time',2:'info'}, inplace = True)\n",
    "data10_msnhealthnews['source'] = pd.Series([\"msnhealthnews\" for x in range(len(data10_msnhealthnews.index))])\n",
    "data10_msnhealthnews.head(5)"
   ]
  },
  {
   "cell_type": "code",
   "execution_count": null,
   "id": "afd16745-d3bb-44cb-829c-5c98393591a9",
   "metadata": {},
   "outputs": [],
   "source": [
    "data11_NBChealth = pd.read_csv('NBChealth.txt', delimiter='|', error_bad_lines=False, warn_bad_lines=False, header=None)\n",
    "data11_NBChealth.rename(columns = {0:'Number', 1:'Date_Time',2:'info'}, inplace = True)\n",
    "data11_NBChealth['source'] = pd.Series([\"NBChealth\" for x in range(len(data11_NBChealth.index))])\n",
    "data11_NBChealth.head(5)"
   ]
  },
  {
   "cell_type": "code",
   "execution_count": null,
   "id": "63c9cb17-2b75-466f-9861-68a30a0fc7c2",
   "metadata": {},
   "outputs": [],
   "source": [
    "data12_nprhealth = pd.read_csv('nprhealth.txt', delimiter='|', error_bad_lines=False, warn_bad_lines=False, header=None)\n",
    "data12_nprhealth.rename(columns = {0:'Number', 1:'Date_Time',2:'info'}, inplace = True)\n",
    "data12_nprhealth['source'] = pd.Series([\"nprhealth\" for x in range(len(data12_nprhealth.index))])\n",
    "data12_nprhealth.head(5)"
   ]
  },
  {
   "cell_type": "code",
   "execution_count": null,
   "id": "2ff0ac4c-90bd-49d5-b6dd-6f6ef93780b3",
   "metadata": {},
   "outputs": [],
   "source": [
    "data13_nytimeshealth = pd.read_csv('nytimeshealth.txt', delimiter='|', error_bad_lines=False, warn_bad_lines=False, header=None)\n",
    "data13_nytimeshealth.rename(columns = {0:'Number', 1:'Date_Time',2:'info'}, inplace = True)\n",
    "data13_nytimeshealth['source'] = pd.Series([\"nytimeshealth\" for x in range(len(data13_nytimeshealth.index))])\n",
    "data13_nytimeshealth.head(5)"
   ]
  },
  {
   "cell_type": "code",
   "execution_count": null,
   "id": "88c00519-b86e-467b-8243-0779f00583eb",
   "metadata": {},
   "outputs": [],
   "source": [
    "data14_reuters_health = pd.read_csv('reuters_health.txt', delimiter='|', error_bad_lines=False, warn_bad_lines=False, header=None)\n",
    "data14_reuters_health.rename(columns = {0:'Number', 1:'Date_Time',2:'info'}, inplace = True)\n",
    "data14_reuters_health['source'] = pd.Series([\"reuters_health\" for x in range(len(data14_reuters_health.index))])\n",
    "data14_reuters_health.head(5)"
   ]
  },
  {
   "cell_type": "code",
   "execution_count": null,
   "id": "24997540-bd53-43f5-8674-cc0c39445e6d",
   "metadata": {},
   "outputs": [],
   "source": [
    "data15_usnewshealth = pd.read_csv('usnewshealth.txt', delimiter='|', error_bad_lines=False, warn_bad_lines=False, header=None)\n",
    "data15_usnewshealth.rename(columns = {0:'Number', 1:'Date_Time',2:'info'}, inplace = True)\n",
    "data15_usnewshealth['source'] = pd.Series([\"usnewshealth\" for x in range(len(data15_usnewshealth.index))])\n",
    "data15_usnewshealth.head(5)"
   ]
  },
  {
   "cell_type": "code",
   "execution_count": null,
   "id": "1f3477fd-2023-4888-898d-0afdd83b589b",
   "metadata": {},
   "outputs": [],
   "source": [
    "data16_wsjhealth = pd.read_csv('wsjhealth.txt', delimiter='|', error_bad_lines=False, warn_bad_lines=False, header=None)\n",
    "data16_wsjhealth.rename(columns = {0:'Number', 1:'Date_Time',2:'info'}, inplace = True)\n",
    "data16_wsjhealth['source'] = pd.Series([\"wsjhealth\" for x in range(len(data16_wsjhealth.index))])\n",
    "data16_wsjhealth.head(5)"
   ]
  },
  {
   "cell_type": "markdown",
   "id": "4864df60-cbc9-47a2-a3ed-1e7fab4a6ada",
   "metadata": {},
   "source": [
    "### Note TV: Merging files"
   ]
  },
  {
   "cell_type": "code",
   "execution_count": null,
   "id": "5ee06a90-86c6-4618-be7d-2269602b264d",
   "metadata": {},
   "outputs": [],
   "source": [
    "twitter_health = pd.concat([data1_bbc, data2_cbc, data3_cnn, data4_everyday, data5_foxnews, data6_gdnhealthcare, data7_goodhealth, data8_KaiserHealthNews, data9_latimeshealth, data10_msnhealthnews, data11_NBChealth, data12_nprhealth, data13_nytimeshealth, data14_reuters_health, data15_usnewshealth, data16_wsjhealth ], axis=0)"
   ]
  },
  {
   "cell_type": "code",
   "execution_count": null,
   "id": "8b591e2a-e6f3-45eb-bbde-46049f92fc2e",
   "metadata": {},
   "outputs": [],
   "source": [
    "twitter_health"
   ]
  },
  {
   "cell_type": "code",
   "execution_count": null,
   "id": "c17c1384-760a-4e50-a56f-e1cad041d2d3",
   "metadata": {},
   "outputs": [],
   "source": [
    "twitter_health['source'].value_counts()"
   ]
  },
  {
   "cell_type": "code",
   "execution_count": null,
   "id": "927de326-cfb0-40ed-9c91-e0e0512d1748",
   "metadata": {},
   "outputs": [],
   "source": [
    "file_list = [data1_bbc, data2_cbc, data3_cnn, data4_everyday, data5_foxnews, data6_gdnhealthcare, data7_goodhealth, data8_KaiserHealthNews, data9_latimeshealth, data10_msnhealthnews, data11_NBChealth, data12_nprhealth, data13_nytimeshealth, data14_reuters_health, data15_usnewshealth, data16_wsjhealth]\n",
    "for file in file_list:\n",
    "    print('File name:', file['source'].unique(), len(file))"
   ]
  },
  {
   "cell_type": "markdown",
   "id": "89db1567-47b4-4d73-b28b-407a39839cc8",
   "metadata": {},
   "source": [
    "### Reseting index"
   ]
  },
  {
   "cell_type": "code",
   "execution_count": null,
   "id": "1db89d7e-7369-4cd2-be79-0361b2a41c4e",
   "metadata": {},
   "outputs": [],
   "source": [
    "twitter_health=twitter_health.reset_index()"
   ]
  },
  {
   "cell_type": "code",
   "execution_count": null,
   "id": "03acc6d2-53a8-4765-a8dc-710087fd1a5d",
   "metadata": {},
   "outputs": [],
   "source": [
    "twitter_health"
   ]
  },
  {
   "cell_type": "markdown",
   "id": "7ceb0ac0-69d3-4a7f-9e85-a1fa001b5540",
   "metadata": {},
   "source": [
    "### \"info\" column can be splitted on \"http\" due to the fact that core text is on the beginning of the cell and the info after are redundant and unuseful, however there are 119 rows of the \"info column which start with \"http\" and we need to take care of them first in order not to lose data from this 119 rows"
   ]
  },
  {
   "cell_type": "markdown",
   "id": "3839fd94-bad9-476f-9472-5171b63e8b74",
   "metadata": {},
   "source": [
    "### File comprised from the 119 rows which start with \"http\" in the \"info\" column is the following:"
   ]
  },
  {
   "cell_type": "code",
   "execution_count": null,
   "id": "0b4ee711-d4bb-43d1-adb4-37a258f40c7c",
   "metadata": {},
   "outputs": [],
   "source": [
    "#df[df[\"lot\"].str.startswith(\"A-0\")]\n",
    "split_exceptions = twitter_health[twitter_health['info'].str.startswith(\"http\")]\n",
    "split_exceptions"
   ]
  },
  {
   "cell_type": "code",
   "execution_count": null,
   "id": "d67850f9-ac23-4177-982b-01f0a7bd50fe",
   "metadata": {},
   "outputs": [],
   "source": [
    "rows_to_skip = split_exceptions.index\n",
    "rows_to_skip"
   ]
  },
  {
   "cell_type": "markdown",
   "id": "489c3904-cb68-4006-b7e7-8169df9deb7b",
   "metadata": {},
   "source": [
    "### File without the 119 rows which start with \"http\" in the \"info\" column is the following:"
   ]
  },
  {
   "cell_type": "code",
   "execution_count": null,
   "id": "68d124cd-2ec5-4950-84e0-15eb936dcb68",
   "metadata": {},
   "outputs": [],
   "source": [
    "file_to_split = twitter_health.drop((rows_to_skip), axis=0)\n",
    "file_to_split"
   ]
  },
  {
   "cell_type": "code",
   "execution_count": null,
   "id": "b1965f1c-840c-4ed1-8a5d-48127e1c51b5",
   "metadata": {},
   "outputs": [],
   "source": [
    "62817 - 119"
   ]
  },
  {
   "cell_type": "code",
   "execution_count": null,
   "id": "cc381905-bc02-4209-9af9-270939b87840",
   "metadata": {},
   "outputs": [],
   "source": [
    "file_to_split_check =  file_to_split[file_to_split['info'].str.startswith(\"http\")]\n",
    "file_to_split_check"
   ]
  },
  {
   "cell_type": "markdown",
   "id": "ac2b876e-3a14-43d7-b2b2-59f09a772bea",
   "metadata": {},
   "source": [
    "### Dataframe status "
   ]
  },
  {
   "cell_type": "code",
   "execution_count": null,
   "id": "3abe050d-ce33-4f5b-bbb6-218732c2dbe4",
   "metadata": {},
   "outputs": [],
   "source": [
    "#rows which start with 'http:'' excluded - 119 rows excluded\n",
    "file_to_split"
   ]
  },
  {
   "cell_type": "code",
   "execution_count": null,
   "id": "c72b4712-4001-48a3-b4ec-df500d68c277",
   "metadata": {},
   "outputs": [],
   "source": [
    "#rows which begin with http: to be excluded from file splitting below\n",
    "split_exceptions"
   ]
  },
  {
   "cell_type": "markdown",
   "id": "67dd0b30-af5c-4dcb-a7d3-2d4dd88d5d03",
   "metadata": {},
   "source": [
    "## Dealing with the 119 rows with \"http\" on the beginning"
   ]
  },
  {
   "cell_type": "code",
   "execution_count": null,
   "id": "e0eb44e9-9052-4a95-b552-12296cc3c712",
   "metadata": {},
   "outputs": [],
   "source": [
    "split_exceptions['info']"
   ]
  },
  {
   "cell_type": "markdown",
   "id": "8ce66efe-126d-43f7-98ad-c66291182665",
   "metadata": {},
   "source": [
    "### splitting column \"info\" from dataset \"split_exeptions\" by delimiter ' '"
   ]
  },
  {
   "cell_type": "code",
   "execution_count": null,
   "id": "e1ffd460-93a9-4cb2-89c0-b418928e6ae7",
   "metadata": {},
   "outputs": [],
   "source": [
    "split_exceptions_splitted = split_exceptions['info'].str.split(\" \", n=1, expand=True)"
   ]
  },
  {
   "cell_type": "code",
   "execution_count": null,
   "id": "7ff4160c-a74f-4663-91dc-5ad1fdb27963",
   "metadata": {},
   "outputs": [],
   "source": [
    "split_exceptions_splitted.rename(columns = {0:'redundant_info', 1:'Core_info'}, inplace = True)\n",
    "split_exceptions_splitted"
   ]
  },
  {
   "cell_type": "code",
   "execution_count": null,
   "id": "5a633429-11ea-4a71-8b95-512d49731708",
   "metadata": {},
   "outputs": [],
   "source": [
    "split_exceptions_splitted = split_exceptions_splitted.drop(['redundant_info'], axis=1)\n",
    "split_exceptions_splitted"
   ]
  },
  {
   "cell_type": "code",
   "execution_count": null,
   "id": "10ec5f7e-860c-4483-bf04-b3f2bc05c086",
   "metadata": {},
   "outputs": [],
   "source": [
    "exceptions = pd.concat([split_exceptions, split_exceptions_splitted], axis = 1)\n",
    "exceptions"
   ]
  },
  {
   "cell_type": "markdown",
   "id": "423d4f2a-00b8-4214-9e27-aad27b47272d",
   "metadata": {},
   "source": [
    "### Preparing core dataframe \"file_to_split\" to be merged with dataframe \"exeptions\""
   ]
  },
  {
   "cell_type": "code",
   "execution_count": null,
   "id": "334aef61-a270-41e2-b27e-ce98dfa7be9e",
   "metadata": {},
   "outputs": [],
   "source": [
    "file_to_split"
   ]
  },
  {
   "cell_type": "code",
   "execution_count": null,
   "id": "1406e57d-a210-4b76-8acc-852cb7e4ba97",
   "metadata": {},
   "outputs": [],
   "source": [
    "file_to_split['Core_info'] = file_to_split['info']"
   ]
  },
  {
   "cell_type": "code",
   "execution_count": null,
   "id": "be101f93-780e-4b56-b13f-2decd28a3055",
   "metadata": {},
   "outputs": [],
   "source": [
    "file_to_split"
   ]
  },
  {
   "cell_type": "code",
   "execution_count": null,
   "id": "4f3fec00-4845-4d72-adf5-54d3d367a817",
   "metadata": {},
   "outputs": [],
   "source": [
    "display(file_to_split)\n",
    "display(exceptions)"
   ]
  },
  {
   "cell_type": "markdown",
   "id": "eff6f7e2-3840-4a2e-afa1-9fc785a675ef",
   "metadata": {},
   "source": [
    "### Merging back the full file - after taking care of the \"http\" on the beginnig of the cell in the column \"Core_info\""
   ]
  },
  {
   "cell_type": "code",
   "execution_count": null,
   "id": "e1ca116e-93c3-4560-9818-fcef7a8efe37",
   "metadata": {},
   "outputs": [],
   "source": [
    "file_for_split_full = pd.concat([file_to_split, exceptions], axis = 0)\n",
    "file_for_split_full"
   ]
  },
  {
   "cell_type": "markdown",
   "id": "0ef45e6f-c42a-4631-8b2b-00a4f1e0f48d",
   "metadata": {},
   "source": [
    "#### this file is cleared from \"http\" on the beginning of the cell within the \"Core_info\" column and can be splitted further on the \"http\" "
   ]
  },
  {
   "cell_type": "markdown",
   "id": "9292fa1c-cecf-414e-9bc1-35a179c1e778",
   "metadata": {},
   "source": [
    "### Splitting  the column \"Core_info\" of the entire dataset of 62817 rows on \"http\""
   ]
  },
  {
   "cell_type": "code",
   "execution_count": null,
   "id": "2b159cac-46fb-44c4-a3a0-50f3870869fa",
   "metadata": {},
   "outputs": [],
   "source": [
    "Core_info_split = file_for_split_full['Core_info'].str.split(\"http\", n=1, expand=True)\n",
    "Core_info_split"
   ]
  },
  {
   "cell_type": "code",
   "execution_count": null,
   "id": "2701c674-a745-4a94-8459-446a4754a4a6",
   "metadata": {},
   "outputs": [],
   "source": [
    "Core_info_split.rename(columns = {0:'Core_info_final', 1:'redundant_info'}, inplace = True)\n",
    "Core_info_split"
   ]
  },
  {
   "cell_type": "markdown",
   "id": "b51c8e38-2256-424a-8632-09d24acaad3c",
   "metadata": {},
   "source": [
    "### Adding the splitted Core_info column to the entire dataset"
   ]
  },
  {
   "cell_type": "code",
   "execution_count": null,
   "id": "40e581c2-2b08-4a2e-bf80-c7e95500341c",
   "metadata": {},
   "outputs": [],
   "source": [
    "file_for_split_full\n",
    "Core_info_split"
   ]
  },
  {
   "cell_type": "code",
   "execution_count": null,
   "id": "a57126c6-9234-4f99-9fa0-6db331e776b2",
   "metadata": {},
   "outputs": [],
   "source": [
    "twitter_full = pd.concat([file_for_split_full, Core_info_split], axis = 1)"
   ]
  },
  {
   "cell_type": "code",
   "execution_count": null,
   "id": "04773227-c2a0-4db6-b8a3-c33f730f6c1b",
   "metadata": {},
   "outputs": [],
   "source": [
    "twitter_full"
   ]
  },
  {
   "cell_type": "code",
   "execution_count": null,
   "id": "f8f48e27-a0dc-48cd-b8f7-8748f1670098",
   "metadata": {},
   "outputs": [],
   "source": [
    "twitter_health = twitter_full.drop(['Core_info', 'index', \"redundant_info\"], axis = 1)"
   ]
  },
  {
   "cell_type": "code",
   "execution_count": null,
   "id": "64fb339f-951e-4fdd-902e-e77e2f75f9ee",
   "metadata": {},
   "outputs": [],
   "source": [
    "twitter_health"
   ]
  },
  {
   "cell_type": "code",
   "execution_count": null,
   "id": "e5a46dae-fb5e-4f05-865f-681026756cb1",
   "metadata": {},
   "outputs": [],
   "source": [
    "print('----Split check-----')\n",
    "print('  ')\n",
    "print('Before split:')\n",
    "print(file_to_split['info'][3929])\n",
    "print('---------------')\n",
    "print('After split split:')\n",
    "print(twitter_full['Core_info_final'][3929])\n",
    "print(twitter_full['redundant_info'][3929])"
   ]
  },
  {
   "cell_type": "code",
   "execution_count": null,
   "id": "19465a71-bd90-4dce-a62c-1693430a6642",
   "metadata": {},
   "outputs": [],
   "source": [
    "file_to_split_new = file_to_split_new.drop(['redundant_info'], axis=1)\n",
    "file_to_split_new"
   ]
  },
  {
   "cell_type": "markdown",
   "id": "101a310f-40e5-4f8d-a414-9785a7b5fc06",
   "metadata": {},
   "source": [
    "### Check for rows wich start with \"http:\""
   ]
  },
  {
   "cell_type": "code",
   "execution_count": null,
   "id": "bdd8d333-0f57-4cdf-ab28-0f6835bfc983",
   "metadata": {},
   "outputs": [],
   "source": [
    "twitter_health[twitter_health['info'].str.startswith(\"http\")]"
   ]
  },
  {
   "cell_type": "markdown",
   "id": "762c98e4-7a54-4faa-8c39-d2810363ae97",
   "metadata": {},
   "source": [
    "# File to work with from now on:"
   ]
  },
  {
   "cell_type": "code",
   "execution_count": null,
   "id": "a1ff5ed3-ca53-404b-b688-e12ee5b29b07",
   "metadata": {},
   "outputs": [],
   "source": [
    "twitter_health"
   ]
  },
  {
   "cell_type": "markdown",
   "id": "ea89ce0b-b7d0-44b2-bd72-ae07ddf218ca",
   "metadata": {},
   "source": [
    "#### columns \"Number\" and \"info\" are to be deleted later"
   ]
  },
  {
   "cell_type": "markdown",
   "id": "8210b5c0-f63e-4880-976c-473c4155d273",
   "metadata": {},
   "source": [
    "#### columns \"Date_Time\" needs to be splitted, and column \"Core_info_final\" to be tokenized etc."
   ]
  },
  {
   "cell_type": "code",
   "execution_count": null,
   "id": "c8cdcb9a-7473-4bc1-b0af-2ecf21ac50b1",
   "metadata": {},
   "outputs": [],
   "source": [
    "from datetime import date"
   ]
  },
  {
   "cell_type": "code",
   "execution_count": null,
   "id": "ff00886e-922e-46fe-bbd1-94707cdd98bb",
   "metadata": {},
   "outputs": [],
   "source": [
    "#df['Date'] = pd.to_datetime(df['Date'], errors='coerce')\n",
    "twitter_health['Date_Time'] = pd.to_datetime(twitter_health['Date_Time'], errors='coerce')"
   ]
  },
  {
   "cell_type": "code",
   "execution_count": null,
   "id": "864be499-9980-4f5f-aedb-8981830d128f",
   "metadata": {},
   "outputs": [],
   "source": [
    "twitter_health['year'] = twitter_health['Date_Time'].dt.year\n",
    "twitter_health['month'] = twitter_health['Date_Time'].dt.month\n",
    "twitter_health['day'] = twitter_health['Date_Time'].dt.day\n",
    "twitter_health['date'] = twitter_health['Date_Time'].dt.date"
   ]
  },
  {
   "cell_type": "code",
   "execution_count": null,
   "id": "f33cf87b-c206-4888-8e2c-dbcd9a4be7f0",
   "metadata": {},
   "outputs": [],
   "source": [
    "twitter_health.info()"
   ]
  },
  {
   "cell_type": "code",
   "execution_count": null,
   "id": "781c179f-4b02-4d34-9f4e-51be697a5da0",
   "metadata": {},
   "outputs": [],
   "source": [
    "twitter_health['date'] = pd.to_datetime(twitter_health['date'], errors='coerce')"
   ]
  },
  {
   "cell_type": "code",
   "execution_count": null,
   "id": "47167c39-a0cf-4b9a-8990-411f5a2b3f8e",
   "metadata": {},
   "outputs": [],
   "source": [
    "twitter_health.info()"
   ]
  },
  {
   "cell_type": "code",
   "execution_count": null,
   "id": "bede2ad6-828f-4b5f-990c-fd8146a35640",
   "metadata": {},
   "outputs": [],
   "source": [
    "twitter_health['day_of_week'] = twitter_health['date'].apply(lambda time: time.dayofweek)"
   ]
  },
  {
   "cell_type": "code",
   "execution_count": null,
   "id": "27753745-d8b5-49aa-9e03-2f0428eb79b7",
   "metadata": {},
   "outputs": [],
   "source": [
    "twitter_health"
   ]
  },
  {
   "cell_type": "code",
   "execution_count": null,
   "id": "4b2e02f9-74a0-4f15-a162-61261aae3779",
   "metadata": {},
   "outputs": [],
   "source": [
    "twitter_health['day_of_week'].value_counts()"
   ]
  },
  {
   "cell_type": "markdown",
   "id": "6fd18871-8ebe-4e38-8305-d9e367072dc4",
   "metadata": {},
   "source": [
    "### Conclusion: Most of the tweets are released during workweek (3 to 4 times more on weekday than during weekend days)"
   ]
  },
  {
   "cell_type": "code",
   "execution_count": null,
   "id": "8ece3810-c5d5-4b92-9652-fe6a7617d2a2",
   "metadata": {},
   "outputs": [],
   "source": [
    "#twitter_health.info()"
   ]
  },
  {
   "cell_type": "code",
   "execution_count": null,
   "id": "2f183c23-99f6-4f80-a126-00f2a66bf52f",
   "metadata": {},
   "outputs": [],
   "source": [
    "twitter_health[\"day_of_week\"] = twitter_health[\"day_of_week\"].map({0: 'Monday',1: 'Tuesday', 2: 'Wednesday', 3: 'Thursday', 4: 'Friday', 5: 'Saturday', 6: 'Sunday' })"
   ]
  },
  {
   "cell_type": "markdown",
   "id": "32d87b08-02a9-4f27-bbb1-ad3be621a640",
   "metadata": {},
   "source": [
    "### renaming days of the week"
   ]
  },
  {
   "cell_type": "code",
   "execution_count": null,
   "id": "84a5ad9a-a5eb-4781-9970-278b13b88cb4",
   "metadata": {},
   "outputs": [],
   "source": [
    "twitter_health.head(5)"
   ]
  },
  {
   "cell_type": "code",
   "execution_count": null,
   "id": "216aa099-f6cb-4d3d-8819-fbccc919c00a",
   "metadata": {},
   "outputs": [],
   "source": [
    "twitter_health['day_of_week'].value_counts()"
   ]
  },
  {
   "cell_type": "markdown",
   "id": "d3d6bc1d-5b15-4939-8f91-155ba5dda22d",
   "metadata": {},
   "source": [
    "# Dataset with data ready to be tokenized etc. in the column \"Core_info_final\""
   ]
  },
  {
   "cell_type": "markdown",
   "id": "68671edd-9ead-4200-a1c6-9a59d33386df",
   "metadata": {},
   "source": [
    "### Columns \"Number\", \"Date_Time\", and \"info\" can be deleted "
   ]
  },
  {
   "cell_type": "code",
   "execution_count": null,
   "id": "87b9d81d-7e69-47fa-8af5-55d69ca190d2",
   "metadata": {},
   "outputs": [],
   "source": [
    "twitter_health"
   ]
  },
  {
   "cell_type": "code",
   "execution_count": null,
   "id": "bb805fa1-a1bf-4f1a-8cb3-31b0bd342300",
   "metadata": {},
   "outputs": [],
   "source": [
    "twitter_health['Core_info_final'].isna().sum()"
   ]
  },
  {
   "cell_type": "code",
   "execution_count": null,
   "id": "5c184836-1f71-442a-8941-4a6bbc5a82d0",
   "metadata": {},
   "outputs": [],
   "source": []
  }
 ],
 "metadata": {
  "kernelspec": {
   "display_name": "Python 3",
   "language": "python",
   "name": "python3"
  },
  "language_info": {
   "codemirror_mode": {
    "name": "ipython",
    "version": 3
   },
   "file_extension": ".py",
   "mimetype": "text/x-python",
   "name": "python",
   "nbconvert_exporter": "python",
   "pygments_lexer": "ipython3",
   "version": "3.8.8"
  }
 },
 "nbformat": 4,
 "nbformat_minor": 5
}
